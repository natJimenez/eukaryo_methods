{
 "cells": [
  {
   "cell_type": "code",
   "execution_count": 1,
   "id": "4ad793c5",
   "metadata": {},
   "outputs": [],
   "source": [
    "import matplotlib.pyplot as plt\n",
    "from matplotlib_venn import venn3_unweighted\n",
    "import pandas as pd\n",
    "\n",
    "# Crear DataFrame con la información de los gráficos\n",
    "data = {\n",
    "    'Nombre archivo': ['metaboloma.pdf'],\n",
    "    'A': [31],\n",
    "    'B': [60],\n",
    "    'A∩B': [1],\n",
    "    'C': [127],\n",
    "    'A∩C': [11],\n",
    "    'B∩C': [68],\n",
    "    'A∩B∩C': [11],\n",
    "    'Titulo A': ['A. aegypti'],\n",
    "    'Titulo B': ['C. griseus'],\n",
    "    'Titulo C': ['E. siliculosus']\n",
    "}\n",
    "\n",
    "df = pd.DataFrame(data)\n",
    "\n",
    "# Iterar sobre cada fila del DataFrame para generar los gráficos\n",
    "for index, row in df.iterrows():\n",
    "    subset_sizes = (row['A'], row['B'], row['A∩B'], row['C'], row['A∩C'], row['B∩C'], row['A∩B∩C'])\n",
    "    \n",
    "    # Crear el diagrama de Venn no ponderado (círculos simétricos)\n",
    "    venn_diagram = venn3_unweighted(subsets=subset_sizes, set_labels=(row['Titulo A'], row['Titulo B'], row['Titulo C']))\n",
    "\n",
    "    # Configurar la fuente a Arial\n",
    "    for text in venn_diagram.set_labels:\n",
    "        text.set_fontsize(16)\n",
    "        text.set_fontfamily('Arial')\n",
    "\n",
    "    for text in venn_diagram.subset_labels:\n",
    "        if text:  # Puede haber etiquetas de subconjuntos que sean None\n",
    "            text.set_fontsize(14)\n",
    "            text.set_fontfamily('Arial')\n",
    "\n",
    "    # Exportar el diagrama como archivo PDF\n",
    "    plt.savefig(row['Nombre archivo'], format='pdf')\n",
    "    plt.close()  # Cerrar la figura para evitar que se sobrepongan en el siguiente gráfico\n"
   ]
  },
  {
   "cell_type": "code",
   "execution_count": null,
   "id": "6720b639",
   "metadata": {},
   "outputs": [],
   "source": []
  }
 ],
 "metadata": {
  "kernelspec": {
   "display_name": "Python 3",
   "language": "python",
   "name": "python3"
  },
  "language_info": {
   "codemirror_mode": {
    "name": "ipython",
    "version": 3
   },
   "file_extension": ".py",
   "mimetype": "text/x-python",
   "name": "python",
   "nbconvert_exporter": "python",
   "pygments_lexer": "ipython3",
   "version": "3.6.15"
  }
 },
 "nbformat": 4,
 "nbformat_minor": 5
}
