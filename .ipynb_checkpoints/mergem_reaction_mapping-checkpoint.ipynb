{
 "cells": [
  {
   "cell_type": "markdown",
   "id": "ec124efc-8035-4962-86cd-aa3138c6f37b",
   "metadata": {},
   "source": [
    "# Mapping genome-scale reconstructions to a single namespace\n",
    "This code implements methods for mapping model contents into the MetaNetX namespace using the mergem library."
   ]
  },
  {
   "cell_type": "markdown",
   "id": "f8588d58-292a-4d21-8c84-39388c4b8887",
   "metadata": {},
   "source": [
    "# 1. Installing required libraries"
   ]
  },
  {
   "cell_type": "code",
   "execution_count": null,
   "id": "8b027526-9afd-4fff-8f57-64d6c493144d",
   "metadata": {
    "collapsed": true,
    "jupyter": {
     "outputs_hidden": true,
     "source_hidden": true
    },
    "scrolled": true
   },
   "outputs": [],
   "source": [
    "import mergem\n",
    "import cobra\n",
    "from collections import defaultdict\n",
    "import pandas as pd\n",
    "import re\n",
    "import matplotlib.pyplot as plt\n",
    "from scipy.cluster.hierarchy import linkage, leaves_list, dendrogram\n",
    "from scipy.spatial.distance import pdist\n",
    "import numpy as np"
   ]
  },
  {
   "cell_type": "markdown",
   "id": "2fc8a902-250e-46d1-bd73-078acb1a432a",
   "metadata": {},
   "source": [
    "# 2. Function definitions"
   ]
  },
  {
   "cell_type": "markdown",
   "id": "6aa989c8-a33e-4800-8448-360a0b8d041b",
   "metadata": {
    "jp-MarkdownHeadingCollapsed": true
   },
   "source": [
    "## 2.1 Functions for model inspection"
   ]
  },
  {
   "cell_type": "code",
   "execution_count": null,
   "id": "1ba4db6a-dacc-404a-ad13-4b8fcac751e4",
   "metadata": {
    "collapsed": true,
    "jupyter": {
     "outputs_hidden": true,
     "source_hidden": true
    }
   },
   "outputs": [],
   "source": [
    "def print_rxns(model,n):\n",
    "    \"\"\"\n",
    "    Prints total number of reactions, and first n reactions of a model.\n",
    "    \"\"\"\n",
    "    # Print number of reactions\n",
    "    num_reactions = len(model.reactions)\n",
    "    print(f\"Number of reactions in the model: {num_reactions}\")\n",
    "\n",
    "    # Print n first reactions\n",
    "    print(\"\\nFirst n reactions in the model:\")\n",
    "    for reaction in model.reactions[:n]:\n",
    "        print(reaction.id,': ', reaction.reaction)\n",
    "\n",
    "\n",
    "def print_mets(model,n):\n",
    "    \"\"\"\n",
    "    Prints total number of metabolites, and first n metabolites of a model.\n",
    "    \"\"\"\n",
    "    # Print number of metabolites\n",
    "    num_metabolites = len(model.metabolites)\n",
    "    print(f\"\\nNumber of metabolites in the model: {num_metabolites}\")\n",
    "\n",
    "    # Print n first metabolites\n",
    "    print(\"\\nFirst n metabolites in the model:\")\n",
    "    for metabolite in model.metabolites[:n]:\n",
    "        print(metabolite.id,': ', metabolite.formula)\n",
    "\n",
    "\n",
    "def print_compartments(model):\n",
    "    \"\"\"\n",
    "    Prints compartments of a model.\n",
    "    \"\"\"\n",
    "    # Print compartments\n",
    "    print(\"\\nCompartments in the model:\")\n",
    "    for compartment_id, compartment_name in model.compartments.items():\n",
    "        print(f\"{compartment_id}: {compartment_name}\")\n",
    "\n",
    "\n",
    "def print_transports(model,n):\n",
    "    \"\"\"\n",
    "    Prints total number of transports, and first n transports of a model\n",
    "    \"\"\"\n",
    "    # Print number of transports\n",
    "    transport_rxns = []\n",
    "    for rxn in model.reactions:\n",
    "        compartments = {met.compartment for met in rxn.metabolites}\n",
    "        if len(compartments) > 1:\n",
    "            transport_rxns.append(rxn)\n",
    "    print(f\"\\nNumber of transport reactions in the model: {len(transport_rxns)}\")\n",
    "\n",
    "    # Print n first transports\n",
    "    print(\"\\nFirst n transport reactions in the model:\")\n",
    "    for reaction in transport_rxns[:n]:\n",
    "        print(reaction.id, ': ', reaction.reaction)\n",
    "\n",
    "\n",
    "def print_boundaries(model,n):\n",
    "    \"\"\"\n",
    "    Prints total number of boundaries, and first n boundaries of a model\n",
    "    \"\"\"\n",
    "    # Print number of boundaries\n",
    "    boundary_rxns = [rxn for rxn in model.reactions if rxn.boundary]\n",
    "    print(f\"\\nNumber of boundary reactions in the model: {len(boundary_rxns)}\")\n",
    "    \n",
    "    # Print n first boundaries\n",
    "    print(\"\\nFirst n boundary reactions in the model:\")\n",
    "    for rxn in boundary_rxns[:n]:\n",
    "        print(rxn.id, ': ', rxn.reaction)\n",
    "\n",
    "\n",
    "def print_shared_core_rxns(model,n):\n",
    "    \"\"\"\n",
    "    Prints total number of reactions sharing prefix (until the first underscore), and first n of such reactions. \n",
    "    These reactions are typically biochemically equivalent but ocurring in different compartments.\n",
    "    \"\"\"\n",
    "    # Number of duplicated reactions in the model\n",
    "    duplicated_count = 0\n",
    "    duplicated_reactions = defaultdict(list)\n",
    "    \n",
    "    # Group reactions by core ID (everything before the first underscore)\n",
    "    for reaction in model.reactions:\n",
    "        core_id = reaction.id.split('_')[0]\n",
    "        duplicated_reactions[core_id].append(reaction)\n",
    "\n",
    "    # Filter out core IDs with more than one reaction\n",
    "    duplicate_instances = {core_id: reactions for core_id, reactions in duplicated_reactions.items() if len(reactions) > 1}\n",
    "    \n",
    "    # Count the duplicates\n",
    "    duplicated_count = sum(len(reactions) - 1 for reactions in duplicate_instances.values())\n",
    "    print(f\"\\nNumber of putatively duplicated reactions, i.e. sharing core ID (everything before the first underscore): {duplicated_count}\")\n",
    "    \n",
    "    # Print first n duplicated reaction groups\n",
    "    print(\"\\nFirst n putatively duplicated reactions:\")\n",
    "    i = 0\n",
    "    for core_id, reactions in duplicate_instances.items():\n",
    "        if i >= n:\n",
    "            break\n",
    "        else:\n",
    "            print(f\"{core_id}: {[rxn.id for rxn in reactions]}\")\n",
    "            i += 1\n",
    "    print('\\n')\n",
    "\n",
    "\n",
    "def summarize_model_info(model, n):\n",
    "    \"\"\"\n",
    "    Runs all previously defined printing functions\n",
    "    \"\"\"\n",
    "    \n",
    "    #Print reactions\n",
    "    print_rxns(model,n)\n",
    "\n",
    "    #Print metabolites\n",
    "    print_mets(model,n)\n",
    "\n",
    "    #Print compartments\n",
    "    print_compartments(model)\n",
    "\n",
    "    #Print transports\n",
    "    print_transports(model,n)\n",
    "    \n",
    "    #Print boundaries\n",
    "    print_boundaries(model,n)\n",
    "    \n",
    "    #Print rxns with shared core\n",
    "    print_shared_core_rxns(model,n)"
   ]
  },
  {
   "cell_type": "markdown",
   "id": "4c3b3efd-cb68-4b72-8bcc-1f5f79f62829",
   "metadata": {},
   "source": [
    "## 2.2 Functions for model mapping"
   ]
  },
  {
   "cell_type": "code",
   "execution_count": null,
   "id": "821e88e2-f288-438d-83ea-e2069b49444a",
   "metadata": {
    "collapsed": true,
    "jupyter": {
     "outputs_hidden": true,
     "source_hidden": true
    }
   },
   "outputs": [],
   "source": [
    "def is_transport(reaction):\n",
    "    \"\"\"\n",
    "    Decides whether a reaction is transport/exchange or not\n",
    "    \"\"\"\n",
    "    compartments = {met.compartment for met in reaction.metabolites}\n",
    "    if len(compartments) > 1:\n",
    "        return 1\n",
    "    elif reaction.boundary:\n",
    "        return 1\n",
    "    else:\n",
    "        return 0\n",
    "\n",
    "def extract_core_id(s):\n",
    "    \"\"\"\n",
    "    Extracts the 'core' id from an id. For models already mapped to MetaNetX via mergem, the core is \n",
    "    the substring starting with 'MNX' until a '~' or '_' is reached (or the original string otherwise).\n",
    "    If a match is found, it is returned. If no match is found, the original string is returned.\n",
    "    \"\"\"\n",
    "    match = re.search(r'MNX(?:[^\\_~]*)?', s)\n",
    "    return match.group(0) if match else s\n",
    "\n",
    "\n",
    "def export_mergem_mapping(model, model_name, output_mapping_path):\n",
    "    \"\"\"\n",
    "    Creates and exports tables summarizing metabolite and reaction ID mappings using mergem \n",
    "    \"\"\"\n",
    "    \n",
    "    original_rxn_ids = [rxn.id for rxn in model.reactions] # All reactions in the original model\n",
    "    original_met_ids = [met.id for met in model.metabolites] # All metabolites in the original model\n",
    "    \n",
    "    mapped_model = mergem.translate(model, 'metanetx') # Mapped model\n",
    "    \n",
    "    metanetx_rxn_ids = [rxn.id for rxn in mapped_model.reactions] # All reactions in the mapped model\n",
    "    transport_rxn_class = [is_transport(rxn) for rxn in mapped_model.reactions] # Binary vector encoding transport reactions\n",
    "    core_metanetx_rxn_ids = [extract_core_id(rxn.id) if not is_transport(rxn) \\\n",
    "                             else 'Transport removed' for rxn in mapped_model.reactions]  # Deduplicated reaction IDs (or tagged as transport)\n",
    "    \n",
    "    metanetx_met_ids = [met.id for met in mapped_model.metabolites] #All metabolites in the mapped model\n",
    "    core_metanetx_met_ids = [extract_core_id(met.id) for met in mapped_model.metabolites] # Deduplicated metabolite IDs\n",
    "\n",
    "    # Create and export mapping tables\n",
    "    rxn_df = pd.DataFrame({'Original ID':original_rxn_ids,'Raw MetaNetX ID':metanetx_rxn_ids,'transport':transport_rxn_class,\\\n",
    "                           'Final ID':core_metanetx_rxn_ids}) \n",
    "    \n",
    "    met_df = pd.DataFrame({'Original ID':original_met_ids,'Raw MetaNetX ID':metanetx_met_ids,'Final ID':core_metanetx_met_ids})\n",
    "    rxn_df.to_csv(output_mapping_path + '/' + model_name + '_rxn_mergem_mapping.csv', index=False) \n",
    "    met_df.to_csv(output_mapping_path + '/' + model_name + '_met_mergem_mapping.csv', index=False) "
   ]
  },
  {
   "cell_type": "markdown",
   "id": "bbda9fc1-d8ce-4ac5-a98c-2ffac88d9325",
   "metadata": {},
   "source": [
    "# 3. Mappings"
   ]
  },
  {
   "cell_type": "markdown",
   "id": "3d213973-b3a5-47eb-ab98-bdc99a75d4d6",
   "metadata": {
    "jp-MarkdownHeadingCollapsed": true
   },
   "source": [
    "## 3.0 Path definitions"
   ]
  },
  {
   "cell_type": "code",
   "execution_count": 1,
   "id": "9c26d482-1b5b-459c-95ab-40beb13f7191",
   "metadata": {
    "collapsed": true,
    "jupyter": {
     "outputs_hidden": true,
     "source_hidden": true
    }
   },
   "outputs": [],
   "source": [
    "input_model_path = 'to_plot' # Folder with generated models\n",
    "output_mapping_path = 'mapping_results' # Folder where mapping results will be saved"
   ]
  },
  {
   "cell_type": "markdown",
   "id": "c0631920-a947-42ac-84b4-d8f0bfdf1a9c",
   "metadata": {},
   "source": [
    "## 3.1 AuReMe"
   ]
  },
  {
   "cell_type": "markdown",
   "id": "68a90f75-cb5f-4a8d-a140-9dacecc4e96e",
   "metadata": {
    "jp-MarkdownHeadingCollapsed": true
   },
   "source": [
    "### 3.1.1 Model importing"
   ]
  },
  {
   "cell_type": "code",
   "execution_count": null,
   "id": "cdf29109-6588-4f05-8fb5-936ee5265bc4",
   "metadata": {
    "collapsed": true,
    "jupyter": {
     "outputs_hidden": true,
     "source_hidden": true
    }
   },
   "outputs": [],
   "source": [
    "au_CHO = cobra.io.read_sbml_model(input_model_path + '/' + 'AuReMe/CHO.xml')\n",
    "au_A_aegypti = cobra.io.read_sbml_model(input_model_path + '/' + 'AuReMe/A_aegypti.xml')\n",
    "au_E_siliculosus = cobra.io.read_sbml_model(input_model_path + '/' + 'AuReMe/E_siliculosus.xml')"
   ]
  },
  {
   "cell_type": "markdown",
   "id": "51dfa0fb-32df-4d7d-b436-d9abd9c96014",
   "metadata": {
    "jp-MarkdownHeadingCollapsed": true
   },
   "source": [
    "### 3.1.2 Mapping to MetaNetX"
   ]
  },
  {
   "cell_type": "code",
   "execution_count": null,
   "id": "74809feb-137e-4dd7-872c-8127100c0d94",
   "metadata": {
    "collapsed": true,
    "jupyter": {
     "outputs_hidden": true,
     "source_hidden": true
    }
   },
   "outputs": [],
   "source": [
    "#Export AureMe CHO mergem results\n",
    "export_mergem_mapping(au_CHO, 'au_CHO', output_mapping_path)\n",
    "\n",
    "#Export AureMe A. aegypti mergem results\n",
    "export_mergem_mapping(au_A_aegypti, 'au_A_aegypti', output_mapping_path)\n",
    "\n",
    "#Export AureMe E. siliculosus mergem results\n",
    "export_mergem_mapping(au_E_siliculosus, 'au_E_siliculosus', output_mapping_path)"
   ]
  },
  {
   "cell_type": "markdown",
   "id": "150908a5-82ac-408d-928a-07b7e11c5338",
   "metadata": {},
   "source": [
    "## 3.2 carveMe"
   ]
  },
  {
   "cell_type": "markdown",
   "id": "2b38a53d-6590-45f7-b202-e0e0bf02c3ea",
   "metadata": {
    "jp-MarkdownHeadingCollapsed": true
   },
   "source": [
    "### 3.2.1 Model importing"
   ]
  },
  {
   "cell_type": "code",
   "execution_count": null,
   "id": "b2f97ed0-fd08-4ba6-b1e7-6360d872ca18",
   "metadata": {
    "collapsed": true,
    "jupyter": {
     "outputs_hidden": true,
     "source_hidden": true
    }
   },
   "outputs": [],
   "source": [
    "cv_CHO = cobra.io.read_sbml_model(input_model_path + '/' + 'carveMe/CHO.xml')\n",
    "cv_A_aegypti = cobra.io.read_sbml_model(input_model_path + '/' + 'carveMe/A_aegypti.xml')\n",
    "cv_E_siliculosus = cobra.io.read_sbml_model(input_model_path + '/' + 'carveMe/E_siliculosus.xml')"
   ]
  },
  {
   "cell_type": "markdown",
   "id": "452e8c76-8311-4763-b67e-74ea83544724",
   "metadata": {
    "jp-MarkdownHeadingCollapsed": true
   },
   "source": [
    "### 3.2.2 Mapping to MetaNetX"
   ]
  },
  {
   "cell_type": "code",
   "execution_count": null,
   "id": "d2627f92-53bf-4618-b6f3-8c1b353b3829",
   "metadata": {
    "collapsed": true,
    "jupyter": {
     "outputs_hidden": true,
     "source_hidden": true
    },
    "scrolled": true
   },
   "outputs": [],
   "source": [
    "#Export CHO mergem results\n",
    "export_mergem_mapping(cv_CHO, 'cv_CHO', output_mapping_path)\n",
    "\n",
    "#Export A. aegypti mergem results\n",
    "export_mergem_mapping(cv_A_aegypti, 'cv_A_aegypti', output_mapping_path)\n",
    "\n",
    "#Export E. siliculosus mergem results\n",
    "export_mergem_mapping(cv_E_siliculosus, 'cv_E_siliculosus', output_mapping_path)"
   ]
  },
  {
   "cell_type": "markdown",
   "id": "73443df1-192b-425b-882c-da46cb6248af",
   "metadata": {},
   "source": [
    "## 3.3 merlin "
   ]
  },
  {
   "cell_type": "markdown",
   "id": "e42011ef-d161-46bd-abcb-16f69704341f",
   "metadata": {
    "jp-MarkdownHeadingCollapsed": true
   },
   "source": [
    "### 3.3.1 Model importing"
   ]
  },
  {
   "cell_type": "code",
   "execution_count": null,
   "id": "8c224a7a-85cf-406a-bfc5-af16dce9fdbe",
   "metadata": {
    "collapsed": true,
    "jupyter": {
     "outputs_hidden": true,
     "source_hidden": true
    },
    "scrolled": true
   },
   "outputs": [],
   "source": [
    "me_CHO = cobra.io.read_sbml_model(input_model_path + '/' + 'merlin/CHO.xml')\n",
    "me_A_aegypti = cobra.io.read_sbml_model(input_model_path + '/' + 'merlin/A_aegypti.xml')\n",
    "me_E_siliculosus = cobra.io.read_sbml_model(input_model_path + '/' + 'merlin/E_siliculosus.xml')"
   ]
  },
  {
   "cell_type": "markdown",
   "id": "d4e64a9d-3bbb-449b-af94-9715989de21a",
   "metadata": {
    "jp-MarkdownHeadingCollapsed": true
   },
   "source": [
    "### 3.3.2 Mapping to MetaNetX"
   ]
  },
  {
   "cell_type": "code",
   "execution_count": null,
   "id": "880e226a-3257-45ec-83df-1422c7fd7a7e",
   "metadata": {
    "collapsed": true,
    "jupyter": {
     "outputs_hidden": true,
     "source_hidden": true
    }
   },
   "outputs": [],
   "source": [
    "#Export CHO mergem results\n",
    "export_mergem_mapping(me_CHO, 'me_CHO', output_mapping_path)\n",
    "\n",
    "#Export A. aegypti mergem results\n",
    "export_mergem_mapping(me_A_aegypti, 'me_A_aegypti', output_mapping_path)\n",
    "\n",
    "#Export E. siliculosus mergem results\n",
    "export_mergem_mapping(me_E_siliculosus, 'me_E_siliculosus', output_mapping_path)"
   ]
  },
  {
   "cell_type": "markdown",
   "id": "876e280f-4491-4b09-a593-e251db8016c2",
   "metadata": {},
   "source": [
    "## 3.4 modelSEED"
   ]
  },
  {
   "cell_type": "markdown",
   "id": "7811baa8-ab4f-4f66-9a21-feae01aa976b",
   "metadata": {
    "jp-MarkdownHeadingCollapsed": true
   },
   "source": [
    "### 3.4.1 Model importing"
   ]
  },
  {
   "cell_type": "code",
   "execution_count": null,
   "id": "54958d96-4ca2-48e5-b1c3-2c14708043a7",
   "metadata": {
    "collapsed": true,
    "jupyter": {
     "outputs_hidden": true,
     "source_hidden": true
    }
   },
   "outputs": [],
   "source": [
    "ms_CHO = cobra.io.read_sbml_model(input_model_path + '/' + 'modelseed/CHO.xml')\n",
    "ms_A_aegypti = cobra.io.read_sbml_model(input_model_path + '/' + 'modelseed/A_aegypti.xml')\n",
    "ms_E_siliculosus = cobra.io.read_sbml_model(input_model_path + '/' + 'modelseed/E_siliculosus.xml')"
   ]
  },
  {
   "cell_type": "markdown",
   "id": "82782cd8-6c8e-4474-bc89-279e8585ff94",
   "metadata": {
    "jp-MarkdownHeadingCollapsed": true
   },
   "source": [
    "### 3.4.2 Mapping to MetaNetX"
   ]
  },
  {
   "cell_type": "code",
   "execution_count": null,
   "id": "a27d6d31-0ef1-40d5-84b9-0dba49704cdd",
   "metadata": {
    "collapsed": true,
    "jupyter": {
     "outputs_hidden": true,
     "source_hidden": true
    }
   },
   "outputs": [],
   "source": [
    "#Export CHO mergem results\n",
    "export_mergem_mapping(ms_CHO, 'ms_CHO', output_mapping_path)\n",
    "\n",
    "#Export A. aegypti mergem results\n",
    "export_mergem_mapping(ms_A_aegypti, 'ms_A_aegypti', output_mapping_path)\n",
    "\n",
    "#Export E. siliculosus mergem results\n",
    "export_mergem_mapping(ms_E_siliculosus, 'ms_E_siliculosus', output_mapping_path)"
   ]
  },
  {
   "cell_type": "markdown",
   "id": "34818c5b-f5aa-461d-b938-6ca7ef9b4872",
   "metadata": {},
   "source": [
    "## 3.5 Pathway Tools"
   ]
  },
  {
   "cell_type": "markdown",
   "id": "7dd9598c-be90-4c70-8633-2c2e98183a2c",
   "metadata": {
    "jp-MarkdownHeadingCollapsed": true
   },
   "source": [
    "### 3.5.1 Model importing"
   ]
  },
  {
   "cell_type": "code",
   "execution_count": null,
   "id": "fff5a765-113b-4c2b-b246-2565882f0b9d",
   "metadata": {
    "collapsed": true,
    "jupyter": {
     "outputs_hidden": true,
     "source_hidden": true
    }
   },
   "outputs": [],
   "source": [
    "pt_CHO = cobra.io.read_sbml_model(input_model_path + '/' + 'pathway_tools/CHO.xml')\n",
    "pt_A_aegypti = cobra.io.read_sbml_model(input_model_path + '/' + 'pathway_tools/A_aegypti.xml')\n",
    "pt_E_siliculosus = cobra.io.read_sbml_model(input_model_path + '/' + 'pathway_tools/E_siliculosus.xml')"
   ]
  },
  {
   "cell_type": "markdown",
   "id": "05895dec-eeb7-4aca-91d6-8f6adf402c9b",
   "metadata": {
    "jp-MarkdownHeadingCollapsed": true
   },
   "source": [
    "### 3.5.2 Mapping to MetaNetX"
   ]
  },
  {
   "cell_type": "code",
   "execution_count": null,
   "id": "a9eda4a8-cade-4d33-bbff-ae812b124693",
   "metadata": {
    "collapsed": true,
    "jupyter": {
     "outputs_hidden": true,
     "source_hidden": true
    }
   },
   "outputs": [],
   "source": [
    "#Export CHO mergem results\n",
    "export_mergem_mapping(pt_CHO, 'pt_CHO', output_mapping_path)\n",
    "\n",
    "#Export A. aegypti mergem results\n",
    "export_mergem_mapping(pt_A_aegypti, 'pt_A_aegypti', output_mapping_path)\n",
    "\n",
    "#Export E. siliculosus mergem results\n",
    "export_mergem_mapping(pt_E_siliculosus, 'pt_E_siliculosus', output_mapping_path)"
   ]
  },
  {
   "cell_type": "markdown",
   "id": "bd42bbea-382a-476b-9ba2-5feb4a9e411a",
   "metadata": {},
   "source": [
    "## 3.6 Raven"
   ]
  },
  {
   "cell_type": "markdown",
   "id": "cd8c3c9d-0683-47cd-aebd-9dde523a46fe",
   "metadata": {
    "jp-MarkdownHeadingCollapsed": true
   },
   "source": [
    "### 3.6.1 Model importing"
   ]
  },
  {
   "cell_type": "code",
   "execution_count": null,
   "id": "fe0c5350-95e1-4f23-9990-94c62a49e941",
   "metadata": {
    "collapsed": true,
    "jupyter": {
     "outputs_hidden": true,
     "source_hidden": true
    }
   },
   "outputs": [],
   "source": [
    "r_CHO = cobra.io.read_sbml_model(input_model_path + '/' + 'raven/CHO.xml')\n",
    "r_A_aegypti = cobra.io.read_sbml_model(input_model_path + '/' + 'raven/A_aegypti.xml')\n",
    "r_E_siliculosus = cobra.io.read_sbml_model(input_model_path + '/' + 'raven/E_siliculosus.xml')"
   ]
  },
  {
   "cell_type": "markdown",
   "id": "0c6e74e3-82f8-4227-a9bb-1c9783a9e4b4",
   "metadata": {
    "jp-MarkdownHeadingCollapsed": true
   },
   "source": [
    "### 3.6.2 Mapping to MetaNetX"
   ]
  },
  {
   "cell_type": "code",
   "execution_count": null,
   "id": "069c04b3-e82a-41b0-8069-1eabfad5a718",
   "metadata": {
    "collapsed": true,
    "jupyter": {
     "outputs_hidden": true,
     "source_hidden": true
    }
   },
   "outputs": [],
   "source": [
    "#Export CHO mergem results\n",
    "export_mergem_mapping(r_CHO, 'r_CHO', output_mapping_path)\n",
    "\n",
    "#Export A. aegypti mergem results\n",
    "export_mergem_mapping(r_A_aegypti, 'r_A_aegypti', output_mapping_path)\n",
    "\n",
    "#Export E. siliculosus mergem results\n",
    "export_mergem_mapping(r_E_siliculosus, 'r_E_siliculosus', output_mapping_path)"
   ]
  },
  {
   "cell_type": "markdown",
   "id": "50d8031d-d4d6-4022-90e5-b4656a5bfa71",
   "metadata": {},
   "source": [
    "## 3.7 Raven homo"
   ]
  },
  {
   "cell_type": "markdown",
   "id": "6abba32b-6f92-4379-8f5b-1d73de9c4992",
   "metadata": {
    "jp-MarkdownHeadingCollapsed": true
   },
   "source": [
    "### 3.7.1 Model importing"
   ]
  },
  {
   "cell_type": "code",
   "execution_count": null,
   "id": "2f39927b-5f9c-456a-91c2-b06070c082d9",
   "metadata": {
    "collapsed": true,
    "jupyter": {
     "outputs_hidden": true,
     "source_hidden": true
    }
   },
   "outputs": [],
   "source": [
    "rh_CHO = cobra.io.read_sbml_model(input_model_path + '/' + 'raven_homo/CHO.xml')\n",
    "rh_A_aegypti = cobra.io.read_sbml_model(input_model_path + '/' + 'raven_homo/A_aegypti.xml')\n",
    "rh_E_siliculosus = cobra.io.read_sbml_model(input_model_path + '/' + 'raven_homo/E_siliculosus.xml')"
   ]
  },
  {
   "cell_type": "markdown",
   "id": "68244cde-60b2-4da9-82e3-5dd52d3718a4",
   "metadata": {
    "jp-MarkdownHeadingCollapsed": true
   },
   "source": [
    "### 3.7.2 Mapping to MetaNetX"
   ]
  },
  {
   "cell_type": "code",
   "execution_count": null,
   "id": "e45659ee-4f62-4a8c-aae2-f5d5263c5943",
   "metadata": {
    "collapsed": true,
    "jupyter": {
     "outputs_hidden": true,
     "source_hidden": true
    }
   },
   "outputs": [],
   "source": [
    "#Export CHO mergem results\n",
    "export_mergem_mapping(rh_CHO, 'rh_CHO', output_mapping_path)\n",
    "\n",
    "#Export A. aegypti mergem results\n",
    "export_mergem_mapping(rh_A_aegypti, 'rh_A_aegypti', output_mapping_path)\n",
    "\n",
    "#Export E. siliculosus mergem results\n",
    "export_mergem_mapping(rh_E_siliculosus, 'rh_E_siliculosus', output_mapping_path)"
   ]
  },
  {
   "cell_type": "markdown",
   "id": "5472a94e-b922-4aa8-8619-f73ec1fd6991",
   "metadata": {},
   "source": [
    "## 3.8 Raven combined"
   ]
  },
  {
   "cell_type": "markdown",
   "id": "e999511f-e769-409c-8e60-62296a052d74",
   "metadata": {
    "jp-MarkdownHeadingCollapsed": true
   },
   "source": [
    "### 3.8.1 Model importing"
   ]
  },
  {
   "cell_type": "code",
   "execution_count": null,
   "id": "ecfb4865-dd45-4d03-abb1-a3895730945d",
   "metadata": {
    "collapsed": true,
    "jupyter": {
     "outputs_hidden": true,
     "source_hidden": true
    }
   },
   "outputs": [],
   "source": [
    "rc_CHO = cobra.io.read_sbml_model(input_model_path + '/' + 'raven_comb/CHO.xml')\n",
    "rc_A_aegypti = cobra.io.read_sbml_model(input_model_path + '/' + 'raven_comb/A_aegypti.xml')\n",
    "rc_E_siliculosus = cobra.io.read_sbml_model(input_model_path + '/' + 'raven_comb/E_siliculosus.xml')"
   ]
  },
  {
   "cell_type": "markdown",
   "id": "60fb258e-5bd7-4769-a92f-c26528d248ed",
   "metadata": {
    "jp-MarkdownHeadingCollapsed": true
   },
   "source": [
    "### 3.8.2 Mapping to MetaNetX with mergem"
   ]
  },
  {
   "cell_type": "code",
   "execution_count": null,
   "id": "78eb7e10-068b-4942-8a20-fa6132cd54ae",
   "metadata": {
    "collapsed": true,
    "jupyter": {
     "outputs_hidden": true,
     "source_hidden": true
    }
   },
   "outputs": [],
   "source": [
    "#Export CHO mergem results\n",
    "export_mergem_mapping(rc_CHO, 'rc_CHO', output_mapping_path)\n",
    "\n",
    "#Export A. aegypti mergem results\n",
    "export_mergem_mapping(rc_A_aegypti, 'rc_A_aegypti', output_mapping_path)\n",
    "\n",
    "#Export E. siliculosus mergem results\n",
    "export_mergem_mapping(rc_E_siliculosus, 'rc_E_siliculosus', output_mapping_path)"
   ]
  },
  {
   "cell_type": "markdown",
   "id": "556982da-5c19-4b15-834c-d563a840af4a",
   "metadata": {},
   "source": [
    "## 3.9 Reconstructor"
   ]
  },
  {
   "cell_type": "markdown",
   "id": "9437d139-62f3-47ea-bd56-8eeeef5999d6",
   "metadata": {},
   "source": [
    "### 3.9.1 Model importing"
   ]
  },
  {
   "cell_type": "code",
   "execution_count": null,
   "id": "5e4d7b49-e3f9-4ac6-85bf-930546078f24",
   "metadata": {
    "collapsed": true,
    "jupyter": {
     "outputs_hidden": true,
     "source_hidden": true
    }
   },
   "outputs": [],
   "source": [
    "rec_CHO = cobra.io.read_sbml_model(input_model_path + '/' + 'reconstructor/CHO.sbml')\n",
    "rec_A_aegypti = cobra.io.read_sbml_model(input_model_path + '/' + 'reconstructor/A_aegypti.sbml')\n",
    "rec_E_siliculosus = cobra.io.read_sbml_model(input_model_path + '/' + 'reconstructor/E_siliculosus.sbml')"
   ]
  },
  {
   "cell_type": "markdown",
   "id": "4905a390-8a6b-4877-af2c-e9806a3ae517",
   "metadata": {},
   "source": [
    "### 3.9.2 Mapping to MetaNetX"
   ]
  },
  {
   "cell_type": "code",
   "execution_count": null,
   "id": "7f709b2c-b593-473d-be86-42741b7cdde2",
   "metadata": {
    "collapsed": true,
    "jupyter": {
     "outputs_hidden": true,
     "source_hidden": true
    }
   },
   "outputs": [],
   "source": [
    "#Export CHO mergem results\n",
    "export_mergem_mapping(rec_CHO, 'rec_CHO', output_mapping_path)\n",
    "\n",
    "#Export A. aegypti mergem results\n",
    "export_mergem_mapping(rec_A_aegypti, 'rec_A_aegypti', output_mapping_path)\n",
    "\n",
    "#Export E. siliculosus mergem results\n",
    "export_mergem_mapping(rec_E_siliculosus, 'rec_E_siliculosus', output_mapping_path)"
   ]
  },
  {
   "cell_type": "markdown",
   "id": "514aeb5d-ccc1-48f2-900a-1061acdd5128",
   "metadata": {},
   "source": [
    "## 3.10 AuReMe (mode 2)"
   ]
  },
  {
   "cell_type": "markdown",
   "id": "7a983707-924c-4383-a8dd-cfc5e167fe19",
   "metadata": {},
   "source": [
    "### 3.10.1 Model importing"
   ]
  },
  {
   "cell_type": "code",
   "execution_count": null,
   "id": "dcb7a7ff-663a-4a88-b8ff-847697a028e6",
   "metadata": {
    "collapsed": true,
    "jupyter": {
     "outputs_hidden": true,
     "source_hidden": true
    }
   },
   "outputs": [],
   "source": [
    "aedes_PWT = cobra.io.read_sbml_model('AuReMe_test/models_annotation_only/Aedes_PWT.sbml')\n",
    "CHO_PWT = cobra.io.read_sbml_model('AuReMe_test/models_annotation_only/CHO_PWT.sbml')\n",
    "Ectocarpus_PWT = cobra.io.read_sbml_model('AuReMe_test/models_annotation_only/Ectocarpus_PWT.sbml')"
   ]
  },
  {
   "cell_type": "markdown",
   "id": "d8b12d76-9ed5-42fd-bcf9-1c09363ea072",
   "metadata": {},
   "source": [
    "### 3.10.2 Mapping to MetaNetX"
   ]
  },
  {
   "cell_type": "code",
   "execution_count": null,
   "id": "77bcd3b5-b5f2-403e-ab9b-a9cc59247742",
   "metadata": {
    "collapsed": true,
    "jupyter": {
     "outputs_hidden": true,
     "source_hidden": true
    }
   },
   "outputs": [],
   "source": [
    "#Export A. aegypti mergem results\n",
    "export_mergem_mapping(aedes_PWT, 'au2_A_aegypti', output_mapping_path)\n",
    "\n",
    "#Export CHO mergem results\n",
    "export_mergem_mapping(CHO_PWT, 'au2_CHO', output_mapping_path)\n",
    "\n",
    "#Export E. siliculosus mergem results\n",
    "export_mergem_mapping(Ectocarpus_PWT, 'au2_E_siliculosus', output_mapping_path)"
   ]
  },
  {
   "cell_type": "markdown",
   "id": "8d8debc1-1c2b-4903-bc01-a7a56b2ef4c2",
   "metadata": {},
   "source": [
    "## 3.11 AuReMe (mode 3)"
   ]
  },
  {
   "cell_type": "markdown",
   "id": "8d9ce241-43a7-4234-a9cd-0cb83c1f62eb",
   "metadata": {},
   "source": [
    "### 3.11.1 Model importing"
   ]
  },
  {
   "cell_type": "code",
   "execution_count": null,
   "id": "a39a0459-5630-4f4d-93a8-f58b8c5b53ea",
   "metadata": {
    "collapsed": true,
    "jupyter": {
     "outputs_hidden": true,
     "source_hidden": true
    }
   },
   "outputs": [],
   "source": [
    "Aedes_Recon = cobra.io.read_sbml_model('AuReMe_test/models_merge/Aedes_Recon.sbml')\n",
    "CHO_Recon = cobra.io.read_sbml_model('AuReMe_test/models_merge/CHO_Recon.sbml')\n",
    "Ecto_Saccharina_Aureme = cobra.io.read_sbml_model('AuReMe_test/models_merge/Ecto_Saccharina_Aureme.sbml')"
   ]
  },
  {
   "cell_type": "markdown",
   "id": "27fcac30-912d-4197-9ca5-ff429682afee",
   "metadata": {},
   "source": [
    "### 3.11.2 Mapping to MetaNetX"
   ]
  },
  {
   "cell_type": "code",
   "execution_count": null,
   "id": "156d11f5-1744-49fa-b63b-9c875f8c9b96",
   "metadata": {
    "collapsed": true,
    "jupyter": {
     "outputs_hidden": true,
     "source_hidden": true
    }
   },
   "outputs": [],
   "source": [
    "#Export A. aegypti mergem results\n",
    "export_mergem_mapping(Aedes_Recon, 'au3_A_aegypti', output_mapping_path)\n",
    "\n",
    "#Export CHO mergem results\n",
    "export_mergem_mapping(CHO_Recon, 'au3_CHO', output_mapping_path)\n",
    "\n",
    "#Export E. siliculosus mergem results\n",
    "export_mergem_mapping(Ecto_Saccharina_Aureme, 'au3_E_siliculosus', output_mapping_path)"
   ]
  },
  {
   "cell_type": "markdown",
   "id": "3d7450f8-1fb2-4e37-951f-fdb17545b20c",
   "metadata": {},
   "source": [
    "## 3.12 AuReMe (mode 4)"
   ]
  },
  {
   "cell_type": "markdown",
   "id": "be8ec39d-30ba-4e10-a2a1-0f96cce53868",
   "metadata": {
    "jp-MarkdownHeadingCollapsed": true
   },
   "source": [
    "### 3.12.1 Model importing"
   ]
  },
  {
   "cell_type": "code",
   "execution_count": null,
   "id": "bd9b7b99-071c-4a6c-9573-84bf0a2b445f",
   "metadata": {
    "collapsed": true,
    "jupyter": {
     "outputs_hidden": true,
     "source_hidden": true
    }
   },
   "outputs": [],
   "source": [
    "Aedes_orthofinder = cobra.io.read_sbml_model('AuReMe_test/models_orthology_only/Aedes_orthofinder.sbml')\n",
    "CHO_orthofinder = cobra.io.read_sbml_model('AuReMe_test/models_orthology_only/CHO_orthofinder.sbml')\n",
    "Ectocarpus_orthofinder = cobra.io.read_sbml_model('AuReMe_test/models_orthology_only/Ectocarpus_orthofinder.sbml')"
   ]
  },
  {
   "cell_type": "markdown",
   "id": "9041e406-d37f-49ef-a0aa-3eb8426f355a",
   "metadata": {},
   "source": [
    "### 3.12.2 Mapping to MetaNetX"
   ]
  },
  {
   "cell_type": "code",
   "execution_count": null,
   "id": "1c470cdd-7252-4df9-93be-a87655f48112",
   "metadata": {
    "collapsed": true,
    "jupyter": {
     "outputs_hidden": true,
     "source_hidden": true
    }
   },
   "outputs": [],
   "source": [
    "#Export A. aegypti mergem results\n",
    "export_mergem_mapping(Aedes_orthofinder, 'au4_A_aegypti', output_mapping_path)\n",
    "\n",
    "#Export CHO mergem results\n",
    "export_mergem_mapping(CHO_orthofinder, 'au4_CHO', output_mapping_path)\n",
    "\n",
    "#Export E. siliculosus mergem results\n",
    "export_mergem_mapping(Ectocarpus_orthofinder, 'au4_E_siliculosus', output_mapping_path)"
   ]
  },
  {
   "cell_type": "markdown",
   "id": "f9f6076a-4878-424a-9d3a-fbc6463d94ee",
   "metadata": {},
   "source": [
    "## 3.13 AuReMe (mode 5)"
   ]
  },
  {
   "cell_type": "markdown",
   "id": "56899408-fe0b-414a-bb23-288ed58bfcfa",
   "metadata": {},
   "source": [
    "### 3.13.1 Model importing"
   ]
  },
  {
   "cell_type": "code",
   "execution_count": null,
   "id": "a6e66493-4c3a-41f4-9f6c-797da103d4cd",
   "metadata": {
    "collapsed": true,
    "jupyter": {
     "outputs_hidden": true,
     "source_hidden": true
    }
   },
   "outputs": [],
   "source": [
    "CHO_Recon_orthofinder = cobra.io.read_sbml_model('AuReMe_test/models_orthology_only/CHO_Recon_orthofinder.sbml')\n",
    "Ectocarpus_Saccharina_orthofinder = cobra.io.read_sbml_model('AuReMe_test/models_orthology_only/Ectocarpus_Saccharina_orthofinder.sbml')"
   ]
  },
  {
   "cell_type": "markdown",
   "id": "a76731ad-ad92-406b-853c-bfb5216e1af8",
   "metadata": {},
   "source": [
    "### 3.13.2 Mapping to MetaNetX"
   ]
  },
  {
   "cell_type": "code",
   "execution_count": null,
   "id": "f69b0ca7-3bc3-4775-abbc-0655b64cecc6",
   "metadata": {
    "collapsed": true,
    "jupyter": {
     "outputs_hidden": true,
     "source_hidden": true
    }
   },
   "outputs": [],
   "source": [
    "#Export E. siliculosus mergem results\n",
    "export_mergem_mapping(CHO_Recon_orthofinder, 'au5_CHO', output_mapping_path)\n",
    "\n",
    "#Export E. siliculosus mergem results\n",
    "export_mergem_mapping(Ectocarpus_Saccharina_orthofinder, 'au5_E_siliculosus', output_mapping_path)"
   ]
  }
 ],
 "metadata": {
  "kernelspec": {
   "display_name": "Python 3 (ipykernel)",
   "language": "python",
   "name": "python3"
  },
  "language_info": {
   "codemirror_mode": {
    "name": "ipython",
    "version": 3
   },
   "file_extension": ".py",
   "mimetype": "text/x-python",
   "name": "python",
   "nbconvert_exporter": "python",
   "pygments_lexer": "ipython3",
   "version": "3.13.1"
  }
 },
 "nbformat": 4,
 "nbformat_minor": 5
}
